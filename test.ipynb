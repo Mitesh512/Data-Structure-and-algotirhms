{
 "cells": [
  {
   "cell_type": "code",
   "execution_count": 1,
   "metadata": {},
   "outputs": [],
   "source": [
    "%reload_ext autoreload\n",
    "%autoreload 2\n"
   ]
  },
  {
   "cell_type": "code",
   "execution_count": 14,
   "metadata": {},
   "outputs": [
    {
     "name": "stdout",
     "output_type": "stream",
     "text": [
      "The total number of ways is 197026\n"
     ]
    }
   ],
   "source": [
    "def countWaysToMakeChangeUtil(arr, ind, T, dp):\n",
    "    if ind == 0:\n",
    "        return 1 if T % arr[0] == 0 else 0\n",
    "\n",
    "    if dp[ind][T] != -1:\n",
    "        return dp[ind][T]\n",
    "        \n",
    "    not_taken = countWaysToMakeChangeUtil(arr, ind-1, T, dp)\n",
    "    \n",
    "    taken = 0\n",
    "    if arr[ind] <= T:\n",
    "        taken = countWaysToMakeChangeUtil(arr, ind, T-arr[ind], dp)\n",
    "        \n",
    "    dp[ind][T] = not_taken + taken\n",
    "    return dp[ind][T]\n",
    "\n",
    "\n",
    "def countWaysToMakeChange(arr, n, T):\n",
    "    dp = [[-1 for i in range(T+1)] for j in range(n)]\n",
    "    return countWaysToMakeChangeUtil(arr, n-1, T, dp)\n",
    "\n",
    "def main():\n",
    "    arr = [1,2,3,4]\n",
    "    target = 300\n",
    "    n = len(arr)\n",
    "    print(\"The total number of ways is\", countWaysToMakeChange(arr, n, target))\n",
    "\n",
    "main()"
   ]
  },
  {
   "cell_type": "code",
   "execution_count": null,
   "metadata": {},
   "outputs": [],
   "source": []
  },
  {
   "cell_type": "code",
   "execution_count": 20,
   "metadata": {},
   "outputs": [],
   "source": [
    "# Rotate the array by 1 element:\n",
    "def rotate_arr_by_1(arr):\n",
    "    fe = arr[0]\n",
    "    for i in range(1,len(arr)):\n",
    "        arr[i-1] = arr[i]\n",
    "    arr[len(arr)-1] = fe\n",
    "\n",
    "    return arr\n",
    "\n",
    "def rotate_arr_by_dplaces(arr,d):\n",
    "    if d >=len(arr):\n",
    "        d = d%len(arr)\n",
    "    if d ==0:\n",
    "        return arr\n",
    "    temp_arr = arr[0:d]\n",
    "    arr[0:len(arr)-d] = arr[d:len(arr)]\n",
    "    arr[len(arr)-d:len(arr)] = temp_arr\n",
    "    return arr\n",
    "\n",
    "\n",
    "def rotate_right(arr):\n",
    "    temp = arr[len(arr)-1]\n",
    "    for i in range(len(arr)-1,0,-1):\n",
    "        arr[i] = arr[i-1]\n",
    "    arr[0] = temp\n",
    "    return arr\n"
   ]
  },
  {
   "cell_type": "code",
   "execution_count": 21,
   "metadata": {},
   "outputs": [
    {
     "data": {
      "text/plain": [
       "[5, 1, 2, 3, 4]"
      ]
     },
     "execution_count": 21,
     "metadata": {},
     "output_type": "execute_result"
    }
   ],
   "source": [
    "arr = [1,2,3,4,5]\n",
    "\n",
    "# [5,1,2,3,4]\n",
    "\n",
    "rotate_right(arr)"
   ]
  },
  {
   "cell_type": "code",
   "execution_count": 12,
   "metadata": {},
   "outputs": [
    {
     "data": {
      "text/plain": [
       "[5, 4, 3, 2, 1]"
      ]
     },
     "execution_count": 12,
     "metadata": {},
     "output_type": "execute_result"
    }
   ],
   "source": [
    "arr = [1,2,3,4,5]\n",
    "arr[::-1]"
   ]
  },
  {
   "cell_type": "code",
   "execution_count": 9,
   "metadata": {},
   "outputs": [
    {
     "data": {
      "text/plain": [
       "[2, 3, 4, 5, 1]"
      ]
     },
     "execution_count": 9,
     "metadata": {},
     "output_type": "execute_result"
    }
   ],
   "source": [
    "\n",
    "\n",
    "# rotated_arr = rotate_arr_by_1(arr)\n",
    "# print(rotated_arr)\n",
    "rotate_arr_by_dplaces(arr,1)"
   ]
  },
  {
   "cell_type": "code",
   "execution_count": 35,
   "metadata": {},
   "outputs": [
    {
     "name": "stdout",
     "output_type": "stream",
     "text": [
      "3\n",
      "4\n",
      "5\n"
     ]
    }
   ],
   "source": [
    "arr = [1,2,3,4,5]\n",
    "arr[0:2]\n",
    "for i in range(2,len(arr)):\n",
    "    print(arr[i])"
   ]
  },
  {
   "cell_type": "code",
   "execution_count": 5,
   "metadata": {},
   "outputs": [
    {
     "data": {
      "text/plain": [
       "0"
      ]
     },
     "execution_count": 5,
     "metadata": {},
     "output_type": "execute_result"
    }
   ],
   "source": [
    "10 % 2"
   ]
  },
  {
   "cell_type": "code",
   "execution_count": 16,
   "metadata": {},
   "outputs": [],
   "source": [
    "dp = [[-1 for i in range(4+1)] for j in range(3)]"
   ]
  },
  {
   "cell_type": "code",
   "execution_count": 17,
   "metadata": {},
   "outputs": [
    {
     "data": {
      "text/plain": [
       "[[-1, -1, -1, -1, -1], [-1, -1, -1, -1, -1], [-1, -1, -1, -1, -1]]"
      ]
     },
     "execution_count": 17,
     "metadata": {},
     "output_type": "execute_result"
    }
   ],
   "source": [
    "dp"
   ]
  },
  {
   "cell_type": "code",
   "execution_count": 18,
   "metadata": {},
   "outputs": [
    {
     "data": {
      "text/plain": [
       "[[-1, -1, -1, -1, -1], [-1, -1, -1, -1, -1], [-1, -1, -1, -1, -1]]"
      ]
     },
     "execution_count": 18,
     "metadata": {},
     "output_type": "execute_result"
    }
   ],
   "source": [
    "[[-1] * (4 + 1)] * 3"
   ]
  },
  {
   "cell_type": "code",
   "execution_count": 9,
   "metadata": {},
   "outputs": [],
   "source": [
    "\n",
    "def get_subseq(ind,arr,seq,n,s):\n",
    "    if ind>n:\n",
    "        if s < sum(seq):\n",
    "            s = sum(seq)\n",
    "            print(\"sum \", s,\" seq-----> \",seq)\n",
    "        return\n",
    "    seq.append(arr[ind])\n",
    "    get_subseq(ind+1,arr,seq,n,s)\n",
    "    # seq.pop()\n",
    "    # get_subseq(ind+1,arr,seq,n,s)"
   ]
  },
  {
   "cell_type": "code",
   "execution_count": 12,
   "metadata": {},
   "outputs": [
    {
     "name": "stdout",
     "output_type": "stream",
     "text": [
      "sum  1  seq----->  [-2, 1, -3, 4, -1, 2, 1, -5, 4]\n"
     ]
    }
   ],
   "source": [
    "arr = [-2,1,-3,4,-1,2,1,-5,4]\n",
    "\n",
    "# maximum_sum in sub_seq of array\n",
    "# pick and not pick\n",
    "\n",
    "n = len(arr) -1\n",
    "seq = []\n",
    "ind=0\n",
    "s=0\n",
    "get_subseq(ind,arr,seq,n,s)"
   ]
  },
  {
   "cell_type": "code",
   "execution_count": null,
   "metadata": {},
   "outputs": [],
   "source": []
  },
  {
   "cell_type": "code",
   "execution_count": null,
   "metadata": {},
   "outputs": [],
   "source": [
    "class Solution:\n",
    "    # Brute Force Approach\n",
    "    # 5850 ms, 16.98 mb time complixity O(n^2), space complexity O(1)\n",
    "    def twoSum(self, nums: List[int], target: int) -> List[int]:\n",
    "        for i in range(len(nums)):\n",
    "            remained = target - nums[i]\n",
    "            for j in range(len(nums)):\n",
    "                if i != j:\n",
    "                    if remained == nums[j]:\n",
    "                        return i,j\n",
    "\n",
    "\n",
    "    # Better Approach using dictionary:\n",
    "    # 71 ms and 17.70 mb TC O(n * nlogn) SC O(n)\n",
    "    # def twoSum(self, nums: List[int], target: int) -> List[int]: \n",
    "    #     value_ind_dict = {}\n",
    "    #     for i in range(len(nums)):\n",
    "    #         value_ind_dict[nums[i]] = i\n",
    "        \n",
    "    #     for i in range(len(nums)):\n",
    "    #         remained = target - nums[i]\n",
    "    #         if remained in value_ind_dict.keys():\n",
    "    #             if i != value_ind_dict[remained]:\n",
    "    #                 return i, value_ind_dict[remained]\n",
    "\n",
    "\n",
    "\n",
    "\n",
    "\n"
   ]
  },
  {
   "cell_type": "code",
   "execution_count": 16,
   "metadata": {},
   "outputs": [],
   "source": [
    "prices = [7,1,6,4,3,2]\n",
    "\n",
    "min_price = 10**6\n",
    "profit = 0\n",
    "\n",
    "for p in prices:\n",
    "    if p < min_price:\n",
    "        min_price = p\n",
    "    if p > min_price:\n",
    "        if p - min_price > profit:\n",
    "            profit = p - min_price\n",
    "    "
   ]
  },
  {
   "cell_type": "code",
   "execution_count": 65,
   "metadata": {},
   "outputs": [],
   "source": [
    "def find_product(arr):\n",
    "\t# Brute Force Apporach\n",
    "\n",
    "\t# product_arr = []\n",
    "\t# for i in range(len(arr)):\n",
    "\t# \tproduct = 1\n",
    "\t# \tfor j in range(len(arr)):\n",
    "\t# \t\tif i != j:\n",
    "\t# \t\t\tproduct = product * arr[j]\n",
    "\t# \tproduct_arr.append(product)\n",
    "\t# return product_arr\n",
    "\n",
    "\t# Better Approach\n",
    "    n = len(arr)\n",
    "    product_arr = [1] * n\n",
    "    pre =1\n",
    "    post = 1\n",
    "    for i in range(n):\n",
    "        print(\"*** ---- *****:\",i)\n",
    "        product_arr[i] *= pre \n",
    "        print(product_arr, pre)\n",
    "        pre *= arr[i]\n",
    "        print(pre)\n",
    "        product_arr[n-i-1] *=  post\n",
    "        print(product_arr,post)\n",
    "        post *=  arr[n-i-1]\n",
    "        print(post)\n",
    "        print()\n",
    "    return product_arr\n",
    "\n",
    "\n",
    "\n",
    "def numberof_bits(num):\n",
    "    bit_arr = bin(num)\n",
    "    while num>1:\n",
    "\n",
    "\n",
    "\n"
   ]
  },
  {
   "cell_type": "code",
   "execution_count": 7,
   "metadata": {},
   "outputs": [],
   "source": [
    "triplets= []"
   ]
  },
  {
   "cell_type": "code",
   "execution_count": 8,
   "metadata": {},
   "outputs": [],
   "source": [
    "triplets.append(set([1,2,3]))"
   ]
  },
  {
   "cell_type": "code",
   "execution_count": 9,
   "metadata": {},
   "outputs": [
    {
     "data": {
      "text/plain": [
       "[{1, 2, 3}]"
      ]
     },
     "execution_count": 9,
     "metadata": {},
     "output_type": "execute_result"
    }
   ],
   "source": [
    "triplets"
   ]
  },
  {
   "cell_type": "code",
   "execution_count": null,
   "metadata": {},
   "outputs": [],
   "source": []
  },
  {
   "cell_type": "code",
   "execution_count": 26,
   "metadata": {},
   "outputs": [],
   "source": [
    "test = set()"
   ]
  },
  {
   "cell_type": "code",
   "execution_count": 27,
   "metadata": {},
   "outputs": [],
   "source": [
    "test.add((1,5,6))"
   ]
  },
  {
   "cell_type": "code",
   "execution_count": null,
   "metadata": {},
   "outputs": [],
   "source": []
  },
  {
   "cell_type": "code",
   "execution_count": null,
   "metadata": {},
   "outputs": [],
   "source": []
  },
  {
   "cell_type": "code",
   "execution_count": null,
   "metadata": {},
   "outputs": [],
   "source": []
  },
  {
   "cell_type": "code",
   "execution_count": null,
   "metadata": {},
   "outputs": [],
   "source": [
    "! pip install numpy"
   ]
  },
  {
   "cell_type": "code",
   "execution_count": null,
   "metadata": {},
   "outputs": [],
   "source": []
  },
  {
   "cell_type": "code",
   "execution_count": null,
   "metadata": {},
   "outputs": [],
   "source": []
  },
  {
   "cell_type": "code",
   "execution_count": 28,
   "metadata": {},
   "outputs": [
    {
     "data": {
      "text/plain": [
       "{(1, 5, 6)}"
      ]
     },
     "execution_count": 28,
     "metadata": {},
     "output_type": "execute_result"
    }
   ],
   "source": [
    "test"
   ]
  },
  {
   "cell_type": "code",
   "execution_count": null,
   "metadata": {},
   "outputs": [],
   "source": []
  },
  {
   "cell_type": "code",
   "execution_count": null,
   "metadata": {},
   "outputs": [],
   "source": []
  },
  {
   "cell_type": "code",
   "execution_count": null,
   "metadata": {},
   "outputs": [],
   "source": []
  },
  {
   "cell_type": "code",
   "execution_count": 80,
   "metadata": {},
   "outputs": [
    {
     "name": "stdout",
     "output_type": "stream",
     "text": [
      "6\n"
     ]
    }
   ],
   "source": [
    "cnt=0\n",
    "for i in bin(123)[2::]:\n",
    "    if i =='1':\n",
    "        cnt +=1\n",
    "print(cnt)"
   ]
  },
  {
   "cell_type": "code",
   "execution_count": null,
   "metadata": {},
   "outputs": [],
   "source": [
    "arr = [3,2,4,11,1,45,3,12]\n",
    "# get_duplicate(arr)\n",
    "find_product(arr)"
   ]
  },
  {
   "cell_type": "code",
   "execution_count": 61,
   "metadata": {},
   "outputs": [
    {
     "data": {
      "text/plain": [
       "[142560, 71280, 35640, 12960, 142560, 3168, 47520, 11880]"
      ]
     },
     "execution_count": 61,
     "metadata": {},
     "output_type": "execute_result"
    }
   ],
   "source": [
    "arr = [1,2,4,11,1,45,3,12]\n",
    "# get_duplicate(arr)\n",
    "find_product(arr)"
   ]
  },
  {
   "cell_type": "code",
   "execution_count": null,
   "metadata": {},
   "outputs": [],
   "source": []
  }
 ],
 "metadata": {
  "kernelspec": {
   "display_name": "base",
   "language": "python",
   "name": "python3"
  },
  "language_info": {
   "codemirror_mode": {
    "name": "ipython",
    "version": 3
   },
   "file_extension": ".py",
   "mimetype": "text/x-python",
   "name": "python",
   "nbconvert_exporter": "python",
   "pygments_lexer": "ipython3",
   "version": "3.9.17"
  },
  "orig_nbformat": 4
 },
 "nbformat": 4,
 "nbformat_minor": 2
}
